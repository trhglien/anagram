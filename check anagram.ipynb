{
 "cells": [
  {
   "cell_type": "code",
   "execution_count": 8,
   "id": "f9d4f53b",
   "metadata": {},
   "outputs": [
    {
     "name": "stdout",
     "output_type": "stream",
     "text": [
      "abba\n",
      "abba\n",
      "abba and abba are anagram.\n"
     ]
    }
   ],
   "source": [
    "str1 = str(input())\n",
    "str2 = str(input())\n",
    "\n",
    "if(len(str1) == len(str2)):\n",
    "    sorted_str1 = sorted(str1)\n",
    "    sorted_str2 = sorted(str2)\n",
    "    if(sorted_str1 == sorted_str2):\n",
    "        print(\"{} and {} are anagram.\". format(str1, str2))\n",
    "    else:\n",
    "        print(\"{} and {} are not anagram\". format(str1, str2))\n",
    "\n",
    "else:\n",
    "    print(\"{} and {} are not anagram\". format(str1, str2))"
   ]
  },
  {
   "cell_type": "code",
   "execution_count": null,
   "id": "3af3c92a",
   "metadata": {},
   "outputs": [],
   "source": []
  },
  {
   "cell_type": "code",
   "execution_count": null,
   "id": "d5617530",
   "metadata": {},
   "outputs": [],
   "source": []
  }
 ],
 "metadata": {
  "kernelspec": {
   "display_name": "Python 3",
   "language": "python",
   "name": "python3"
  },
  "language_info": {
   "codemirror_mode": {
    "name": "ipython",
    "version": 3
   },
   "file_extension": ".py",
   "mimetype": "text/x-python",
   "name": "python",
   "nbconvert_exporter": "python",
   "pygments_lexer": "ipython3",
   "version": "3.8.8"
  }
 },
 "nbformat": 4,
 "nbformat_minor": 5
}
